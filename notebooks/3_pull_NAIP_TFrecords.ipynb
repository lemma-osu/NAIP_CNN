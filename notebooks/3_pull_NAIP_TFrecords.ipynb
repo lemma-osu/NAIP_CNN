{
 "cells": [
  {
   "cell_type": "markdown",
   "id": "3207f0af-3c2f-45e5-8ca5-16b949a06e72",
   "metadata": {
    "tags": []
   },
   "source": [
    "# 1. Setup\n",
    "\n",
    "Import the libraries, set up the GLOBAL variables, and run the google authentications "
   ]
  },
  {
   "cell_type": "code",
   "execution_count": null,
   "id": "95192ce0-aa1e-477a-8323-0eddb63d3661",
   "metadata": {},
   "outputs": [],
   "source": [
    "# Import libraries\n",
    "import os\n",
    "import rasterio\n",
    "import glob\n",
    "import json\n",
    "import tensorflow as tf\n",
    "import folium\n",
    "import ee\n",
    "from pprint import pprint\n",
    "from google.oauth2 import service_account\n",
    "from google.cloud import storage\n",
    "\n",
    "os.environ['TF_GPU_ALLOCATOR'] = 'cuda_malloc_async'\n",
    "\n",
    "# Specify the key for accessing the google cloud project\n",
    "KEY_PATH = '/home/climber/.keys/ee-maptheforests-access-key.json'\n",
    "\n",
    "# Our bucket\n",
    "BUCKET_NAME = 'naip_structure'\n",
    "\n",
    "# Set the directories where we will want to grab TFrecords from on gcloud\n",
    "GCLOUD_NAIP_DIR  = 'naip_Malheur_TFrecords/'\n",
    "#GCLOUD_NAIP_DIR  = 'naip_Malheur_final_TFrecords/2011/''\n",
    "\n",
    "# Where to put them on Treenet\n",
    "TREENET_NAIP_DIR = '/scratch/NAIP_data/malheur/2011/'\n",
    "\n",
    "# Name of the output raster name\n",
    "TIF_NAME = 'Malheur_bbox_predicted_canCov_v1.tif'\n",
    "\n",
    "# Assets folder in GEE\n",
    "GEE_USER_FOLDER = 'users/forestMapper'\n",
    "\n",
    "# Input bands to the model\n",
    "BANDS = ['B','G','R','N']\n",
    "\n",
    "# The shape of patches expected by the model\n",
    "KERNEL_SHAPE = [30, 30]\n",
    "\n",
    "#Speicfy where the model file is on the different platforms\n",
    "MODEL_ON_GCLOUD = 'gs://' + BUCKET_NAME + '/CNN_models/CNN_canCov_v1'\n",
    "MODEL_ON_TREENET = '/scratch/CNN/models/canCov_model_2011_v1/'\n",
    "\n",
    "#Authenticate and intialize earth engine\n",
    "ee.Authenticate()\n",
    "ee.Initialize()\n",
    "\n",
    "# The bounding box of the area we'd like to map over\n",
    "MAP_REGION = ee.Geometry.Polygon(\n",
    "        [[[-119.37239004502233,44.48079613290612],\n",
    "          [-118.57725454697545,44.48079613290612],\n",
    "          [-118.57725454697545,44.81785572318615],\n",
    "          [-119.37239004502233,44.81785572318615]]], None, False)\n",
    "\n",
    "# MAP_REGION = ee.Geometry.Polygon(\n",
    "#         [[[-120.5141935519472,43.58307281277678],\n",
    "#           [-117.88022138397845,43.58307281277678],\n",
    "#           [-117.88022138397845,44.84291584106584],\n",
    "#           [-120.5141935519472,44.84291584106584]]], None, False)\n",
    "\n",
    "\n",
    "# print(f'Available hardware: {tf.config.list_physical_devices()}')\n",
    "# print(f'Tensorflow version {tf.__version__}')\n",
    "# print(f'folium version {folium.__version__}')"
   ]
  },
  {
   "cell_type": "markdown",
   "id": "ab0143e2-574b-4a96-af5e-213a84db4bdb",
   "metadata": {
    "tags": []
   },
   "source": [
    "# 2. Show imagery of the requested bbox"
   ]
  },
  {
   "cell_type": "code",
   "execution_count": null,
   "id": "63ecd989-3ca8-4b81-aafb-740fdbaa8ff7",
   "metadata": {},
   "outputs": [],
   "source": [
    "# The NAIP image collection\n",
    "naip = ee.ImageCollection(\"USDA/NAIP/DOQQ\")\n",
    "\n",
    "# The image input data is a cloud-masked median composite.\n",
    "image = naip.filterDate('2011-01-01', '2011-12-31').median().clip(MAP_REGION)\n",
    "\n",
    "# Use folium to visualize the imagery.\n",
    "mapid = image.getMapId({'bands': ['R', 'G', 'B'], 'min': 0, 'max': 255})\n",
    "map = folium.Map(location=[44.62157, -118.98257])\n",
    "folium.TileLayer(\n",
    "    tiles=mapid['tile_fetcher'].url_format,\n",
    "    attr='Map Data &copy; <a href=\"https://earthengine.google.com/\">Google Earth Engine</a>',\n",
    "    overlay=True,\n",
    "    name='median composite',\n",
    "  ).add_to(map)\n",
    "\n",
    "map"
   ]
  },
  {
   "cell_type": "markdown",
   "id": "d8821c6a-c936-44f1-9a8f-279253d91ace",
   "metadata": {
    "jp-MarkdownHeadingCollapsed": true,
    "tags": []
   },
   "source": [
    "# 3. Export imagery GEE --> Gcloud"
   ]
  },
  {
   "cell_type": "code",
   "execution_count": null,
   "id": "0ad736a3-933f-485c-96a5-f04919b6e767",
   "metadata": {},
   "outputs": [],
   "source": [
    "def doExport(out_image_base, region):\n",
    "\n",
    "  task = ee.batch.Export.image.toCloudStorage(\n",
    "    image = image.select(BANDS),\n",
    "    description = out_image_base,\n",
    "    bucket = BUCKET,\n",
    "    fileNamePrefix = TF_FOLDER + '/' + out_image_base,\n",
    "    region = region.getInfo()['coordinates'],\n",
    "    scale = 1,\n",
    "    fileFormat = 'TFRecord',\n",
    "    maxPixels = 1e13,\n",
    "    formatOptions = {\n",
    "      'patchDimensions': KERNEL_SHAPE,\n",
    "      'compressed': True,\n",
    "      'maxFileSize': 104857600\n",
    "    }\n",
    "  )\n",
    "  task.start()\n",
    "\n",
    "  # Block until the task completes.\n",
    "  print('Running image export to Cloud Storage...')\n",
    "  import time\n",
    "  while task.active():\n",
    "    time.sleep(30)\n",
    "\n",
    "  # Error condition\n",
    "  if task.status()['state'] != 'COMPLETED':\n",
    "    print('Error with image export.')\n",
    "  else:\n",
    "    print('Image export completed.')"
   ]
  },
  {
   "cell_type": "code",
   "execution_count": null,
   "id": "f634b873-ef44-41b3-a046-98a9fe3d0d55",
   "metadata": {},
   "outputs": [],
   "source": [
    "#Run the do export function (somehow I lost this but it's only one line of code)"
   ]
  },
  {
   "cell_type": "markdown",
   "id": "ccf56168-6977-4999-876c-97dcd03e6f8e",
   "metadata": {
    "tags": []
   },
   "source": [
    "# 4. Pull imagery Gcloud --> Treenet"
   ]
  },
  {
   "cell_type": "code",
   "execution_count": null,
   "id": "4427c93d-9698-46f3-831f-11fa240f16f9",
   "metadata": {
    "scrolled": true,
    "tags": []
   },
   "outputs": [],
   "source": [
    "# Change directory to be where we want to write the data\n",
    "os.chdir(TREENET_NAIP_DIR)\n",
    "\n",
    "# Credentials for the google cloud connection\n",
    "credentials = service_account.Credentials.from_service_account_file(KEY_PATH)\n",
    "\n",
    "# Open a gcloud client session using the \"credentials\" object\n",
    "client = storage.Client(credentials=credentials)\n",
    "\n",
    "# Get the bucket and the blob object\n",
    "bucket = client.bucket(BUCKET_NAME)\n",
    "\n",
    "# Get the blobs from our bucket (list of files within the gcloud_naip_dir directory)\n",
    "blobs = bucket.list_blobs(prefix = GCLOUD_NAIP_DIR)\n",
    "\n",
    "# Loop through the blobs\n",
    "for blob in blobs:\n",
    "    \n",
    "    # get the filename without the leading directories\n",
    "    file_name = blob.name.split('/')[-1]  \n",
    "    \n",
    "    # Skip the blob that is just the directory name\n",
    "    if len(file_name) < 5: \n",
    "        continue\n",
    "        \n",
    "    # Grab the file    \n",
    "    #blob.download_to_filename(file_name)\n",
    "    \n",
    "    # Print that the file is done\n",
    "    print(file_name) \n",
    "\n",
    "# Run away!\n",
    "print('Run away!')"
   ]
  }
 ],
 "metadata": {
  "kernelspec": {
   "display_name": "Python 3",
   "language": "python",
   "name": "python3"
  },
  "language_info": {
   "codemirror_mode": {
    "name": "ipython",
    "version": 3
   },
   "file_extension": ".py",
   "mimetype": "text/x-python",
   "name": "python",
   "nbconvert_exporter": "python",
   "pygments_lexer": "ipython3",
   "version": "3.9.15"
  }
 },
 "nbformat": 4,
 "nbformat_minor": 5
}
