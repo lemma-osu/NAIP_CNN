{
 "cells": [
  {
   "cell_type": "code",
   "execution_count": null,
   "metadata": {},
   "outputs": [],
   "source": [
    "import ee\n",
    "\n",
    "from naip_cnn.data import NAIPTFRecord\n",
    "\n",
    "ee.Initialize()"
   ]
  },
  {
   "cell_type": "code",
   "execution_count": null,
   "metadata": {},
   "outputs": [],
   "source": [
    "BLUE_MTNS = (\n",
    "    ee.FeatureCollection(\"projects/ee-aazuspan/assets/ecoregions\")\n",
    "    .filter(ee.Filter.eq(\"NA_L3NAME\", \"Blue Mountains\"))\n",
    "    .first()\n",
    ").geometry()\n",
    "\n",
    "MALHEUR = (\n",
    "    ee.FeatureCollection(\"USGS/GAP/PAD-US/v20/fee\")\n",
    "    .filter(ee.Filter.eq(\"Loc_Nm\", \"Malheur National Forest\"))\n",
    "    .first()\n",
    ").geometry()\n",
    "\n",
    "TEST_BBOX = ee.Geometry.Polygon(\n",
    "    [\n",
    "        [\n",
    "            [-119.37239004502233, 44.48079613290612],\n",
    "            [-118.57725454697545, 44.48079613290612],\n",
    "            [-118.57725454697545, 44.81785572318615],\n",
    "            [-119.37239004502233, 44.81785572318615],\n",
    "        ]\n",
    "    ]\n",
    ")"
   ]
  },
  {
   "cell_type": "code",
   "execution_count": null,
   "metadata": {},
   "outputs": [],
   "source": [
    "naip = NAIPTFRecord(\n",
    "    id=\"MALHEUR\", footprint=(30, 30), res=1.0, year=2020, bounds=TEST_BBOX.bounds()\n",
    ")\n",
    "\n",
    "task = naip.export_to_drive(clip=MALHEUR, export_mask=True)"
   ]
  },
  {
   "cell_type": "code",
   "execution_count": null,
   "metadata": {},
   "outputs": [],
   "source": [
    "task.status()"
   ]
  }
 ],
 "metadata": {
  "kernelspec": {
   "display_name": "Python 3",
   "language": "python",
   "name": "python3"
  },
  "language_info": {
   "codemirror_mode": {
    "name": "ipython",
    "version": 3
   },
   "file_extension": ".py",
   "mimetype": "text/x-python",
   "name": "python",
   "nbconvert_exporter": "python",
   "pygments_lexer": "ipython3",
   "version": "3.8.10"
  }
 },
 "nbformat": 4,
 "nbformat_minor": 2
}
