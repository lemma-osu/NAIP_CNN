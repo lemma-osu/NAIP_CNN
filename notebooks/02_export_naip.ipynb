{
 "cells": [
  {
   "cell_type": "code",
   "execution_count": 1,
   "metadata": {},
   "outputs": [
    {
     "name": "stderr",
     "output_type": "stream",
     "text": [
      "/usr/lib/python3/dist-packages/requests/__init__.py:89: RequestsDependencyWarning: urllib3 (1.26.18) or chardet (3.0.4) doesn't match a supported version!\n",
      "  warnings.warn(\"urllib3 ({}) or chardet ({}) doesn't match a supported \"\n"
     ]
    }
   ],
   "source": [
    "import ee\n",
    "\n",
    "from naip_cnn.data import NAIPTFRecord\n",
    "\n",
    "ee.Initialize()"
   ]
  },
  {
   "cell_type": "code",
   "execution_count": 2,
   "metadata": {},
   "outputs": [],
   "source": [
    "MALHEUR_BBOX = (\n",
    "    (\n",
    "        ee.FeatureCollection(\"USGS/GAP/PAD-US/v20/fee\")\n",
    "        .filter(ee.Filter.eq(\"Loc_Nm\", \"Malheur National Forest\"))\n",
    "        .first()\n",
    "    )\n",
    "    .geometry()\n",
    "    .bounds()\n",
    ")\n",
    "\n",
    "TEST_BBOX = ee.Geometry.Polygon(\n",
    "    [\n",
    "        [\n",
    "            [-119.37239004502233, 44.48079613290612],\n",
    "            [-118.57725454697545, 44.48079613290612],\n",
    "            [-118.57725454697545, 44.81785572318615],\n",
    "            [-119.37239004502233, 44.81785572318615],\n",
    "        ]\n",
    "    ]\n",
    ")"
   ]
  },
  {
   "cell_type": "code",
   "execution_count": 4,
   "metadata": {},
   "outputs": [],
   "source": [
    "naip = NAIPTFRecord(\n",
    "    id=\"MAL\", footprint=(30, 30), res=1.0, year=2011, bounds=MALHEUR_BBOX\n",
    ")\n",
    "task = naip.export_to_drive()"
   ]
  },
  {
   "cell_type": "code",
   "execution_count": 5,
   "metadata": {},
   "outputs": [
    {
     "data": {
      "text/plain": [
       "{'state': 'RUNNING',\n",
       " 'description': 'MAL-2016-1-30x30',\n",
       " 'creation_timestamp_ms': 1718656317264,\n",
       " 'update_timestamp_ms': 1718657580464,\n",
       " 'start_timestamp_ms': 1718656319002,\n",
       " 'task_type': 'EXPORT_IMAGE',\n",
       " 'attempt': 1,\n",
       " 'id': 'DITJN3X37OGWN7BL3TDUMEIP',\n",
       " 'name': 'projects/earthengine-legacy/operations/DITJN3X37OGWN7BL3TDUMEIP'}"
      ]
     },
     "execution_count": 5,
     "metadata": {},
     "output_type": "execute_result"
    }
   ],
   "source": [
    "task.status()"
   ]
  }
 ],
 "metadata": {
  "kernelspec": {
   "display_name": "Python 3",
   "language": "python",
   "name": "python3"
  },
  "language_info": {
   "codemirror_mode": {
    "name": "ipython",
    "version": 3
   },
   "file_extension": ".py",
   "mimetype": "text/x-python",
   "name": "python",
   "nbconvert_exporter": "python",
   "pygments_lexer": "ipython3",
   "version": "3.8.10"
  }
 },
 "nbformat": 4,
 "nbformat_minor": 2
}
