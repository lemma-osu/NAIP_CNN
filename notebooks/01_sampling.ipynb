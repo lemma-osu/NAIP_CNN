{
 "cells": [
  {
   "cell_type": "markdown",
   "metadata": {},
   "source": [
    "# 01: Sampling\n",
    "\n",
    "This notebook locates and samples plots, exporting an HDF5 dataset with LiDAR metrics and arrays of NAIP reflectance values for each plot."
   ]
  },
  {
   "cell_type": "code",
   "execution_count": 1,
   "metadata": {},
   "outputs": [],
   "source": [
    "%load_ext autoreload\n",
    "%autoreload 2"
   ]
  },
  {
   "cell_type": "code",
   "execution_count": 2,
   "metadata": {},
   "outputs": [],
   "source": [
    "import ee\n",
    "import rasterio\n",
    "import pandas as pd\n",
    "from openlocationcode import openlocationcode\n",
    "\n",
    "from naip_cnn import sampling\n",
    "from naip_cnn.config import BANDS\n",
    "\n",
    "ee.Authenticate()\n",
    "ee.Initialize()"
   ]
  },
  {
   "cell_type": "code",
   "execution_count": 3,
   "metadata": {},
   "outputs": [],
   "source": [
    "N_SAMPLES = 30_000\n",
    "MIN_SPACING = 100\n",
    "FOOTPRINT_SIZE = (30, 30)\n",
    "NAIP_YEAR = 2011"
   ]
  },
  {
   "cell_type": "markdown",
   "metadata": {},
   "source": [
    "## Generate Sample Points\n",
    "\n",
    "Our training data will be a set of points with 1) aggregated LiDAR attributes for prediction and 2) corresponding reflectance values from NAIP imagery. Points will be generated from the LiDAR data using a random subset of plots on a regularly spaced grid to ensure a minimum spacing.\n",
    "\n",
    "Note: If we wanted to extract additional LiDAR metrics, we could simply add them below."
   ]
  },
  {
   "cell_type": "code",
   "execution_count": 4,
   "metadata": {},
   "outputs": [],
   "source": [
    "with rasterio.open(\"../data/Malheur_lidar_cancov.tif\") as src:\n",
    "    cancov = src.read(1)\n",
    "    lidar_samples = sampling.generate_spaced_samples(\n",
    "        raster=src, min_spacing=MIN_SPACING, n=N_SAMPLES\n",
    "    )\n",
    "    lidar_samples = sampling.extract_raster_at_points(\n",
    "        raster=src, points=lidar_samples\n",
    "    ).rename(columns={\"b1\": \"cancov\"})"
   ]
  },
  {
   "cell_type": "markdown",
   "metadata": {},
   "source": [
    "We can compare the distribution of measured and sampled canopy cover values:"
   ]
  },
  {
   "cell_type": "code",
   "execution_count": 5,
   "metadata": {},
   "outputs": [
    {
     "data": {
      "image/png": "[encoded data removed]",
      "text/plain": [
       "<Figure size 1200x400 with 2 Axes>"
      ]
     },
     "metadata": {},
     "output_type": "display_data"
    }
   ],
   "source": [
    "distribution = pd.concat(\n",
    "    [\n",
    "        lidar_samples[[\"cancov\"]].assign(group=\"sample\"),\n",
    "        pd.DataFrame({\"cancov\": filter(lambda v: v == v, cancov.ravel())}).assign(\n",
    "            group=\"population\"\n",
    "        ),\n",
    "    ]\n",
    ")\n",
    "\n",
    "distribution.hist(by=\"group\", bins=50, figsize=(12, 4));"
   ]
  },
  {
   "cell_type": "markdown",
   "metadata": {},
   "source": [
    "We need a deterministic method for uniquely identifying our sample points so that we can potentially extract additional data in the future. We'll use [Plus Codes](https://maps.google.com/pluscodes/), which encode latitude and longitude coordinates into short strings."
   ]
  },
  {
   "cell_type": "code",
   "execution_count": 6,
   "metadata": {},
   "outputs": [
    {
     "data": {
      "text/html": [
       "<div>\n",
       "<style scoped>\n",
       "    .dataframe tbody tr th:only-of-type {\n",
       "        vertical-align: middle;\n",
       "    }\n",
       "\n",
       "    .dataframe tbody tr th {\n",
       "        vertical-align: top;\n",
       "    }\n",
       "\n",
       "    .dataframe thead th {\n",
       "        text-align: right;\n",
       "    }\n",
       "</style>\n",
       "<table border=\"1\" class=\"dataframe\">\n",
       "  <thead>\n",
       "    <tr style=\"text-align: right;\">\n",
       "      <th></th>\n",
       "      <th>geometry</th>\n",
       "      <th>cancov</th>\n",
       "      <th>id</th>\n",
       "    </tr>\n",
       "  </thead>\n",
       "  <tbody>\n",
       "    <tr>\n",
       "      <th>0</th>\n",
       "      <td>POINT (-1831085.934 2621735.394)</td>\n",
       "      <td>59.588501</td>\n",
       "      <td>85P2HM28+MH8J9F</td>\n",
       "    </tr>\n",
       "    <tr>\n",
       "      <th>1</th>\n",
       "      <td>POINT (-1777085.934 2606835.394)</td>\n",
       "      <td>84.616501</td>\n",
       "      <td>85P3G9QF+5437HJ</td>\n",
       "    </tr>\n",
       "    <tr>\n",
       "      <th>2</th>\n",
       "      <td>POINT (-1799885.934 2620235.394)</td>\n",
       "      <td>48.072300</td>\n",
       "      <td>85P3J343+F72973</td>\n",
       "    </tr>\n",
       "    <tr>\n",
       "      <th>3</th>\n",
       "      <td>POINT (-1823485.934 2616135.394)</td>\n",
       "      <td>65.647797</td>\n",
       "      <td>85P2GQ9G+QJGJ3M</td>\n",
       "    </tr>\n",
       "    <tr>\n",
       "      <th>4</th>\n",
       "      <td>POINT (-1789685.934 2631635.394)</td>\n",
       "      <td>45.598701</td>\n",
       "      <td>85P3P4GV+XH824J</td>\n",
       "    </tr>\n",
       "  </tbody>\n",
       "</table>\n",
       "</div>"
      ],
      "text/plain": [
       "                           geometry     cancov               id\n",
       "0  POINT (-1831085.934 2621735.394)  59.588501  85P2HM28+MH8J9F\n",
       "1  POINT (-1777085.934 2606835.394)  84.616501  85P3G9QF+5437HJ\n",
       "2  POINT (-1799885.934 2620235.394)  48.072300  85P3J343+F72973\n",
       "3  POINT (-1823485.934 2616135.394)  65.647797  85P2GQ9G+QJGJ3M\n",
       "4  POINT (-1789685.934 2631635.394)  45.598701  85P3P4GV+XH824J"
      ]
     },
     "execution_count": 6,
     "metadata": {},
     "output_type": "execute_result"
    }
   ],
   "source": [
    "lidar_samples[\"id\"] = lidar_samples.to_crs(\"EPSG:4326\").geometry.apply(\n",
    "    lambda geom: openlocationcode.encode(geom.y, geom.x, 14)\n",
    ")\n",
    "lidar_samples.head()"
   ]
  },
  {
   "cell_type": "markdown",
   "metadata": {},
   "source": [
    "## Extract NAIP Chips\n",
    "\n",
    "With our sample points defined, we can extract spectral data from the NAIP footprint overlapping each. First, we'll create a mosaic of NAIP imagery from the target year, covering our sample points."
   ]
  },
  {
   "cell_type": "code",
   "execution_count": 7,
   "metadata": {},
   "outputs": [],
   "source": [
    "proj = ee.Projection(src.crs.to_wkt())\n",
    "bbox = ee.Geometry.BBox(*lidar_samples.to_crs(\"EPSG:4326\").total_bounds)\n",
    "\n",
    "naip_mosaic = (\n",
    "    ee.ImageCollection(\"USDA/NAIP/DOQQ\")\n",
    "    .filterBounds(bbox)\n",
    "    .filterDate(str(NAIP_YEAR), str(NAIP_YEAR + 1))\n",
    "    .mosaic()\n",
    "    .select(BANDS)\n",
    "    .reproject(proj)\n",
    ")"
   ]
  },
  {
   "cell_type": "markdown",
   "metadata": {},
   "source": [
    "Now we can extract pixel values in the 30x30 footprint covering each sample point. This data is pulled from Earth Engine servers, so it may take a minute to extract. The `chunk_size` parameter is used to split the samples to avoid Earth Engine limits. Chunks are downloaded in parallel, so smaller sizes can yield faster downloads."
   ]
  },
  {
   "cell_type": "code",
   "execution_count": 8,
   "metadata": {},
   "outputs": [],
   "source": [
    "naip_samples = sampling.extract_footprints_from_dataframe(\n",
    "    img=naip_mosaic,\n",
    "    df=lidar_samples,\n",
    "    dims=FOOTPRINT_SIZE,\n",
    "    proj=proj,\n",
    "    chunk_size=1000,\n",
    ")"
   ]
  },
  {
   "cell_type": "markdown",
   "metadata": {},
   "source": [
    "Now we can join the NAIP footprints to our original sample points. This will give us a dataframe of points with both LiDAR measurements and NAIP pixel values."
   ]
  },
  {
   "cell_type": "code",
   "execution_count": 9,
   "metadata": {},
   "outputs": [
    {
     "data": {
      "text/html": [
       "<div>\n",
       "<style scoped>\n",
       "    .dataframe tbody tr th:only-of-type {\n",
       "        vertical-align: middle;\n",
       "    }\n",
       "\n",
       "    .dataframe tbody tr th {\n",
       "        vertical-align: top;\n",
       "    }\n",
       "\n",
       "    .dataframe thead th {\n",
       "        text-align: right;\n",
       "    }\n",
       "</style>\n",
       "<table border=\"1\" class=\"dataframe\">\n",
       "  <thead>\n",
       "    <tr style=\"text-align: right;\">\n",
       "      <th></th>\n",
       "      <th>geometry</th>\n",
       "      <th>cancov</th>\n",
       "      <th>id</th>\n",
       "      <th>B</th>\n",
       "      <th>G</th>\n",
       "      <th>N</th>\n",
       "      <th>R</th>\n",
       "    </tr>\n",
       "  </thead>\n",
       "  <tbody>\n",
       "    <tr>\n",
       "      <th>0</th>\n",
       "      <td>POINT (-1831085.934 2621735.394)</td>\n",
       "      <td>59.588501</td>\n",
       "      <td>85P2HM28+MH8J9F</td>\n",
       "      <td>[114, 112, 115, 93, 35, 8, 17, 36, 32, 16, 17,...</td>\n",
       "      <td>[144, 139, 140, 112, 46, 13, 20, 40, 32, 17, 2...</td>\n",
       "      <td>[156, 153, 163, 137, 44, 1, 1, 17, 14, 1, 8, 2...</td>\n",
       "      <td>[156, 154, 151, 127, 58, 17, 17, 38, 49, 28, 3...</td>\n",
       "    </tr>\n",
       "    <tr>\n",
       "      <th>1</th>\n",
       "      <td>POINT (-1777085.934 2606835.394)</td>\n",
       "      <td>84.616501</td>\n",
       "      <td>85P3G9QF+5437HJ</td>\n",
       "      <td>[53, 38, 42, 33, 92, 123, 136, 86, 38, 27, 29,...</td>\n",
       "      <td>[56, 44, 43, 38, 103, 129, 140, 95, 44, 31, 31...</td>\n",
       "      <td>[151, 128, 129, 131, 196, 204, 209, 190, 151, ...</td>\n",
       "      <td>[54, 40, 42, 40, 87, 116, 124, 82, 42, 31, 35,...</td>\n",
       "    </tr>\n",
       "    <tr>\n",
       "      <th>2</th>\n",
       "      <td>POINT (-1799885.934 2620235.394)</td>\n",
       "      <td>48.072300</td>\n",
       "      <td>85P3J343+F72973</td>\n",
       "      <td>[45, 48, 28, 18, 22, 85, 103, 84, 111, 117, 34...</td>\n",
       "      <td>[66, 64, 44, 33, 38, 108, 120, 109, 130, 135, ...</td>\n",
       "      <td>[116, 119, 93, 74, 80, 162, 176, 162, 177, 180...</td>\n",
       "      <td>[58, 60, 42, 34, 38, 96, 106, 100, 121, 126, 5...</td>\n",
       "    </tr>\n",
       "    <tr>\n",
       "      <th>3</th>\n",
       "      <td>POINT (-1823485.934 2616135.394)</td>\n",
       "      <td>65.647797</td>\n",
       "      <td>85P2GQ9G+QJGJ3M</td>\n",
       "      <td>[33, 51, 49, 39, 50, 44, 78, 97, 97, 96, 93, 1...</td>\n",
       "      <td>[41, 63, 62, 39, 51, 44, 81, 100, 102, 103, 10...</td>\n",
       "      <td>[56, 86, 88, 41, 70, 73, 126, 161, 163, 165, 1...</td>\n",
       "      <td>[44, 60, 59, 47, 58, 51, 81, 93, 96, 95, 91, 1...</td>\n",
       "    </tr>\n",
       "    <tr>\n",
       "      <th>4</th>\n",
       "      <td>POINT (-1789685.934 2631635.394)</td>\n",
       "      <td>45.598701</td>\n",
       "      <td>85P3P4GV+XH824J</td>\n",
       "      <td>[89, 102, 138, 138, 144, 101, 45, 35, 55, 56, ...</td>\n",
       "      <td>[112, 123, 155, 156, 162, 126, 58, 44, 59, 59,...</td>\n",
       "      <td>[194, 190, 207, 210, 212, 185, 111, 82, 87, 90...</td>\n",
       "      <td>[106, 115, 137, 132, 130, 99, 51, 40, 52, 54, ...</td>\n",
       "    </tr>\n",
       "  </tbody>\n",
       "</table>\n",
       "</div>"
      ],
      "text/plain": [
       "                           geometry     cancov               id  \\\n",
       "0  POINT (-1831085.934 2621735.394)  59.588501  85P2HM28+MH8J9F   \n",
       "1  POINT (-1777085.934 2606835.394)  84.616501  85P3G9QF+5437HJ   \n",
       "2  POINT (-1799885.934 2620235.394)  48.072300  85P3J343+F72973   \n",
       "3  POINT (-1823485.934 2616135.394)  65.647797  85P2GQ9G+QJGJ3M   \n",
       "4  POINT (-1789685.934 2631635.394)  45.598701  85P3P4GV+XH824J   \n",
       "\n",
       "                                                   B  \\\n",
       "0  [114, 112, 115, 93, 35, 8, 17, 36, 32, 16, 17,...   \n",
       "1  [53, 38, 42, 33, 92, 123, 136, 86, 38, 27, 29,...   \n",
       "2  [45, 48, 28, 18, 22, 85, 103, 84, 111, 117, 34...   \n",
       "3  [33, 51, 49, 39, 50, 44, 78, 97, 97, 96, 93, 1...   \n",
       "4  [89, 102, 138, 138, 144, 101, 45, 35, 55, 56, ...   \n",
       "\n",
       "                                                   G  \\\n",
       "0  [144, 139, 140, 112, 46, 13, 20, 40, 32, 17, 2...   \n",
       "1  [56, 44, 43, 38, 103, 129, 140, 95, 44, 31, 31...   \n",
       "2  [66, 64, 44, 33, 38, 108, 120, 109, 130, 135, ...   \n",
       "3  [41, 63, 62, 39, 51, 44, 81, 100, 102, 103, 10...   \n",
       "4  [112, 123, 155, 156, 162, 126, 58, 44, 59, 59,...   \n",
       "\n",
       "                                                   N  \\\n",
       "0  [156, 153, 163, 137, 44, 1, 1, 17, 14, 1, 8, 2...   \n",
       "1  [151, 128, 129, 131, 196, 204, 209, 190, 151, ...   \n",
       "2  [116, 119, 93, 74, 80, 162, 176, 162, 177, 180...   \n",
       "3  [56, 86, 88, 41, 70, 73, 126, 161, 163, 165, 1...   \n",
       "4  [194, 190, 207, 210, 212, 185, 111, 82, 87, 90...   \n",
       "\n",
       "                                                   R  \n",
       "0  [156, 154, 151, 127, 58, 17, 17, 38, 49, 28, 3...  \n",
       "1  [54, 40, 42, 40, 87, 116, 124, 82, 42, 31, 35,...  \n",
       "2  [58, 60, 42, 34, 38, 96, 106, 100, 121, 126, 5...  \n",
       "3  [44, 60, 59, 47, 58, 51, 81, 93, 96, 95, 91, 1...  \n",
       "4  [106, 115, 137, 132, 130, 99, 51, 40, 52, 54, ...  "
      ]
     },
     "execution_count": 9,
     "metadata": {},
     "output_type": "execute_result"
    }
   ],
   "source": [
    "samples = pd.merge(lidar_samples, naip_samples, on=\"id\")\n",
    "samples.head()"
   ]
  },
  {
   "cell_type": "markdown",
   "metadata": {},
   "source": [
    "## Encode Images\n",
    "\n",
    "Notice that the NAIP pixels above are stored as band columns with flat arrays of pixel values. Before storing them, we'll reshape those into 2D arrays and store them in a new `image` column using the `parse_pixel_array` function. After that, we can remove the unused band columns."
   ]
  },
  {
   "cell_type": "code",
   "execution_count": 12,
   "metadata": {},
   "outputs": [],
   "source": [
    "samples[\"image\"] = samples.apply(\n",
    "    lambda row: sampling.parse_pixel_array(footprint=row, shape=FOOTPRINT_SIZE), axis=1\n",
    ")\n",
    "samples = samples.drop(columns=list(BANDS))"
   ]
  },
  {
   "cell_type": "markdown",
   "metadata": {},
   "source": [
    "Now we can easily preview a few images from the dataset:"
   ]
  },
  {
   "cell_type": "code",
   "execution_count": 13,
   "metadata": {},
   "outputs": [
    {
     "data": {
      "image/png": "[encoded data removed]",
      "text/plain": [
       "<Figure size 300x300 with 1 Axes>"
      ]
     },
     "metadata": {},
     "output_type": "display_data"
    },
    {
     "data": {
      "image/png": "[encoded data removed]",
      "text/plain": [
       "<Figure size 300x300 with 1 Axes>"
      ]
     },
     "metadata": {},
     "output_type": "display_data"
    },
    {
     "data": {
      "image/png": "[encoded data removed]",
      "text/plain": [
       "<Figure size 300x300 with 1 Axes>"
      ]
     },
     "metadata": {},
     "output_type": "display_data"
    }
   ],
   "source": [
    "import matplotlib.pyplot as plt\n",
    "\n",
    "\n",
    "for _, footprint in samples.sample(n=3).iterrows():\n",
    "    fig, ax = plt.subplots(figsize=(3, 3))\n",
    "    ax.imshow(footprint.image.reshape(*FOOTPRINT_SIZE, len(BANDS))[..., :3])\n",
    "    ax.set_title(footprint.id)\n",
    "    ax.text(0, 28, f\"{footprint.cancov:.1f}%\", fontdict=dict(color=\"white\", size=14))"
   ]
  },
  {
   "cell_type": "markdown",
   "metadata": {},
   "source": [
    "## Export\n",
    "\n",
    "The final step is to export our sampled footprints so that we can access them during training. We'll store them in a [HDF5](https://en.wikipedia.org/wiki/Hierarchical_Data_Format) format, which allows similar compression to TFRecords with the accessibility of CSVs."
   ]
  },
  {
   "cell_type": "code",
   "execution_count": 14,
   "metadata": {},
   "outputs": [],
   "source": [
    "import h5py\n",
    "import numpy as np\n",
    "\n",
    "out_name = f\"malheur_{N_SAMPLES}_{FOOTPRINT_SIZE[0]}x{FOOTPRINT_SIZE[1]}_{NAIP_YEAR}\"\n",
    "\n",
    "with h5py.File(f\"../data/{out_name}.h5\", \"w\") as f:\n",
    "    f.create_dataset(name=\"image\", data=np.stack(samples.image), compression=\"gzip\")\n",
    "    f.create_dataset(name=\"cancov\", data=samples.cancov.values, compression=\"gzip\")"
   ]
  }
 ],
 "metadata": {
  "kernelspec": {
   "display_name": "Python 3 (ipykernel)",
   "language": "python",
   "name": "python3"
  },
  "language_info": {
   "codemirror_mode": {
    "name": "ipython",
    "version": 3
   },
   "file_extension": ".py",
   "mimetype": "text/x-python",
   "name": "python",
   "nbconvert_exporter": "python",
   "pygments_lexer": "ipython3",
   "version": "3.8.10"
  },
  "orig_nbformat": 4
 },
 "nbformat": 4,
 "nbformat_minor": 2
}
