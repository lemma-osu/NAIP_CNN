{
 "cells": [
  {
   "cell_type": "markdown",
   "metadata": {},
   "source": [
    "# 01: Sampling\n",
    "\n",
    "This notebook locates and samples plots, exporting a GeoParquet file with LiDAR metrics and arrays of NAIP reflectance values for each plot."
   ]
  },
  {
   "cell_type": "code",
   "execution_count": 1,
   "metadata": {},
   "outputs": [],
   "source": [
    "%load_ext autoreload\n",
    "%autoreload 2"
   ]
  },
  {
   "cell_type": "code",
   "execution_count": 2,
   "metadata": {},
   "outputs": [],
   "source": [
    "import ee\n",
    "import rasterio\n",
    "import pandas as pd\n",
    "from openlocationcode import openlocationcode\n",
    "from PIL import Image\n",
    "import io\n",
    "\n",
    "from naip_cnn import sampling\n",
    "\n",
    "ee.Authenticate()\n",
    "ee.Initialize()"
   ]
  },
  {
   "cell_type": "code",
   "execution_count": 3,
   "metadata": {},
   "outputs": [],
   "source": [
    "N_SAMPLES = 30_000\n",
    "MIN_SPACING = 100\n",
    "FOOTPRINT_SIZE = (30, 30)\n",
    "NAIP_YEAR = 2020"
   ]
  },
  {
   "cell_type": "markdown",
   "metadata": {},
   "source": [
    "## Generate Sample Points\n",
    "\n",
    "Our training data will be a set of points with 1) aggregated LiDAR attributes for prediction and 2) corresponding reflectance values from NAIP imagery. Points will be generated from the LiDAR data using a random subset of plots on a regularly spaced grid to ensure a minimum spacing.\n",
    "\n",
    "Note: If we wanted to extract additional LiDAR metrics, we could simply add them below."
   ]
  },
  {
   "cell_type": "code",
   "execution_count": 4,
   "metadata": {},
   "outputs": [],
   "source": [
    "with rasterio.open(\"../data/Malheur_lidar_cancov.tif\") as src:\n",
    "    cancov = src.read(1)\n",
    "    lidar_samples = sampling.generate_spaced_samples(\n",
    "        raster=src, min_spacing=MIN_SPACING, n=N_SAMPLES\n",
    "    )\n",
    "    lidar_samples = sampling.extract_raster_at_points(\n",
    "        raster=src, points=lidar_samples\n",
    "    ).rename(columns={\"b1\": \"cancov\"})"
   ]
  },
  {
   "cell_type": "markdown",
   "metadata": {},
   "source": [
    "We can compare the distribution of measured and sampled canopy cover values:"
   ]
  },
  {
   "cell_type": "code",
   "execution_count": 5,
   "metadata": {},
   "outputs": [
    {
     "data": {
      "image/png": "[encoded data removed]",
      "text/plain": [
       "<Figure size 1200x400 with 2 Axes>"
      ]
     },
     "metadata": {},
     "output_type": "display_data"
    }
   ],
   "source": [
    "distribution = pd.concat(\n",
    "    [\n",
    "        lidar_samples[[\"cancov\"]].assign(group=\"sample\"),\n",
    "        pd.DataFrame({\"cancov\": filter(lambda v: v == v, cancov.ravel())}).assign(\n",
    "            group=\"population\"\n",
    "        ),\n",
    "    ]\n",
    ")\n",
    "\n",
    "distribution.hist(by=\"group\", bins=50, figsize=(12, 4));"
   ]
  },
  {
   "cell_type": "markdown",
   "metadata": {},
   "source": [
    "We need a deterministic method for uniquely identifying our sample points so that we can potentially extract additional data in the future. We'll use [Plus Codes](https://maps.google.com/pluscodes/), which encode latitude and longitude coordinates into short strings."
   ]
  },
  {
   "cell_type": "code",
   "execution_count": 6,
   "metadata": {},
   "outputs": [
    {
     "data": {
      "text/html": [
       "<div>\n",
       "<style scoped>\n",
       "    .dataframe tbody tr th:only-of-type {\n",
       "        vertical-align: middle;\n",
       "    }\n",
       "\n",
       "    .dataframe tbody tr th {\n",
       "        vertical-align: top;\n",
       "    }\n",
       "\n",
       "    .dataframe thead th {\n",
       "        text-align: right;\n",
       "    }\n",
       "</style>\n",
       "<table border=\"1\" class=\"dataframe\">\n",
       "  <thead>\n",
       "    <tr style=\"text-align: right;\">\n",
       "      <th></th>\n",
       "      <th>geometry</th>\n",
       "      <th>cancov</th>\n",
       "      <th>id</th>\n",
       "    </tr>\n",
       "  </thead>\n",
       "  <tbody>\n",
       "    <tr>\n",
       "      <th>0</th>\n",
       "      <td>POINT (-1831085.934 2621735.394)</td>\n",
       "      <td>59.588501</td>\n",
       "      <td>85P2HM28+MH8J9F</td>\n",
       "    </tr>\n",
       "    <tr>\n",
       "      <th>1</th>\n",
       "      <td>POINT (-1777085.934 2606835.394)</td>\n",
       "      <td>84.616501</td>\n",
       "      <td>85P3G9QF+5437HJ</td>\n",
       "    </tr>\n",
       "    <tr>\n",
       "      <th>2</th>\n",
       "      <td>POINT (-1799885.934 2620235.394)</td>\n",
       "      <td>48.072300</td>\n",
       "      <td>85P3J343+F72973</td>\n",
       "    </tr>\n",
       "    <tr>\n",
       "      <th>3</th>\n",
       "      <td>POINT (-1823485.934 2616135.394)</td>\n",
       "      <td>65.647797</td>\n",
       "      <td>85P2GQ9G+QJGJ3M</td>\n",
       "    </tr>\n",
       "    <tr>\n",
       "      <th>4</th>\n",
       "      <td>POINT (-1789685.934 2631635.394)</td>\n",
       "      <td>45.598701</td>\n",
       "      <td>85P3P4GV+XH824J</td>\n",
       "    </tr>\n",
       "  </tbody>\n",
       "</table>\n",
       "</div>"
      ],
      "text/plain": [
       "                           geometry     cancov               id\n",
       "0  POINT (-1831085.934 2621735.394)  59.588501  85P2HM28+MH8J9F\n",
       "1  POINT (-1777085.934 2606835.394)  84.616501  85P3G9QF+5437HJ\n",
       "2  POINT (-1799885.934 2620235.394)  48.072300  85P3J343+F72973\n",
       "3  POINT (-1823485.934 2616135.394)  65.647797  85P2GQ9G+QJGJ3M\n",
       "4  POINT (-1789685.934 2631635.394)  45.598701  85P3P4GV+XH824J"
      ]
     },
     "execution_count": 6,
     "metadata": {},
     "output_type": "execute_result"
    }
   ],
   "source": [
    "lidar_samples[\"id\"] = lidar_samples.to_crs(\"EPSG:4326\").geometry.apply(\n",
    "    lambda geom: openlocationcode.encode(geom.y, geom.x, 14)\n",
    ")\n",
    "lidar_samples.head()"
   ]
  },
  {
   "cell_type": "markdown",
   "metadata": {},
   "source": [
    "## Extract NAIP Chips\n",
    "\n",
    "With our sample points defined, we can extract spectral data from the NAIP footprint overlapping each. First, we'll create a mosaic of NAIP imagery from the target year, covering our sample points."
   ]
  },
  {
   "cell_type": "code",
   "execution_count": 7,
   "metadata": {},
   "outputs": [],
   "source": [
    "proj = ee.Projection(src.crs.to_wkt())\n",
    "bbox = ee.Geometry.BBox(*lidar_samples.to_crs(\"EPSG:4326\").total_bounds)\n",
    "\n",
    "naip_mosaic = (\n",
    "    ee.ImageCollection(\"USDA/NAIP/DOQQ\")\n",
    "    .filterBounds(bbox)\n",
    "    .filterDate(str(NAIP_YEAR), str(NAIP_YEAR + 1))\n",
    "    .mosaic()\n",
    "    .reproject(proj)\n",
    ")"
   ]
  },
  {
   "cell_type": "markdown",
   "metadata": {},
   "source": [
    "Now we can extract pixel values in the 30x30 footprint covering each sample point. This data is pulled from Earth Engine servers, so it may take a minute to extract. The `chunk_size` parameter is used to split the samples to avoid Earth Engine limits. Chunks are downloaded in parallel, so smaller sizes can yield faster downloads."
   ]
  },
  {
   "cell_type": "code",
   "execution_count": 8,
   "metadata": {},
   "outputs": [],
   "source": [
    "naip_samples = sampling.extract_footprints_from_dataframe(\n",
    "    img=naip_mosaic,\n",
    "    df=lidar_samples,\n",
    "    dims=FOOTPRINT_SIZE,\n",
    "    proj=proj,\n",
    "    chunk_size=1000,\n",
    ")"
   ]
  },
  {
   "cell_type": "markdown",
   "metadata": {},
   "source": [
    "Now we can join the NAIP footprints to our original sample points. This will give us a dataframe of points with both LiDAR measurements and NAIP pixel values."
   ]
  },
  {
   "cell_type": "code",
   "execution_count": 9,
   "metadata": {},
   "outputs": [
    {
     "data": {
      "text/html": [
       "<div>\n",
       "<style scoped>\n",
       "    .dataframe tbody tr th:only-of-type {\n",
       "        vertical-align: middle;\n",
       "    }\n",
       "\n",
       "    .dataframe tbody tr th {\n",
       "        vertical-align: top;\n",
       "    }\n",
       "\n",
       "    .dataframe thead th {\n",
       "        text-align: right;\n",
       "    }\n",
       "</style>\n",
       "<table border=\"1\" class=\"dataframe\">\n",
       "  <thead>\n",
       "    <tr style=\"text-align: right;\">\n",
       "      <th></th>\n",
       "      <th>geometry</th>\n",
       "      <th>cancov</th>\n",
       "      <th>id</th>\n",
       "      <th>B</th>\n",
       "      <th>G</th>\n",
       "      <th>N</th>\n",
       "      <th>R</th>\n",
       "    </tr>\n",
       "  </thead>\n",
       "  <tbody>\n",
       "    <tr>\n",
       "      <th>0</th>\n",
       "      <td>POINT (-1831085.934 2621735.394)</td>\n",
       "      <td>59.588501</td>\n",
       "      <td>85P2HM28+MH8J9F</td>\n",
       "      <td>[45, 51, 52, 60, 54, 55, 60, 50, 67, 65, 71, 9...</td>\n",
       "      <td>[50, 56, 57, 69, 60, 64, 81, 55, 94, 109, 109,...</td>\n",
       "      <td>[69, 72, 79, 99, 83, 89, 110, 88, 145, 191, 17...</td>\n",
       "      <td>[37, 43, 40, 55, 45, 47, 63, 41, 78, 79, 91, 1...</td>\n",
       "    </tr>\n",
       "    <tr>\n",
       "      <th>1</th>\n",
       "      <td>POINT (-1777085.934 2606835.394)</td>\n",
       "      <td>84.616501</td>\n",
       "      <td>85P3G9QF+5437HJ</td>\n",
       "      <td>[42, 43, 45, 45, 50, 59, 70, 79, 73, 51, 45, 4...</td>\n",
       "      <td>[30, 31, 31, 28, 50, 64, 96, 123, 125, 44, 31,...</td>\n",
       "      <td>[41, 55, 57, 65, 128, 166, 197, 208, 198, 91, ...</td>\n",
       "      <td>[20, 23, 20, 20, 28, 38, 58, 69, 67, 25, 22, 1...</td>\n",
       "    </tr>\n",
       "    <tr>\n",
       "      <th>2</th>\n",
       "      <td>POINT (-1799885.934 2620235.394)</td>\n",
       "      <td>48.072300</td>\n",
       "      <td>85P3J343+F72973</td>\n",
       "      <td>[52, 41, 43, 47, 39, 35, 36, 44, 56, 51, 52, 6...</td>\n",
       "      <td>[81, 44, 55, 64, 43, 30, 36, 49, 82, 73, 86, 1...</td>\n",
       "      <td>[170, 118, 152, 163, 127, 64, 71, 105, 152, 15...</td>\n",
       "      <td>[57, 32, 36, 38, 32, 23, 24, 36, 65, 49, 56, 7...</td>\n",
       "    </tr>\n",
       "    <tr>\n",
       "      <th>3</th>\n",
       "      <td>POINT (-1823485.934 2616135.394)</td>\n",
       "      <td>65.647797</td>\n",
       "      <td>85P2GQ9G+QJGJ3M</td>\n",
       "      <td>[56, 50, 48, 50, 66, 76, 66, 66, 60, 73, 64, 6...</td>\n",
       "      <td>[57, 46, 42, 43, 97, 126, 99, 71, 80, 104, 79,...</td>\n",
       "      <td>[81, 64, 68, 104, 199, 207, 181, 152, 150, 188...</td>\n",
       "      <td>[40, 31, 32, 30, 57, 78, 63, 51, 53, 69, 57, 6...</td>\n",
       "    </tr>\n",
       "    <tr>\n",
       "      <th>4</th>\n",
       "      <td>POINT (-1789685.934 2631635.394)</td>\n",
       "      <td>45.598701</td>\n",
       "      <td>85P3P4GV+XH824J</td>\n",
       "      <td>[67, 75, 81, 78, 73, 76, 73, 78, 79, 81, 74, 7...</td>\n",
       "      <td>[82, 99, 105, 102, 91, 93, 94, 107, 115, 120, ...</td>\n",
       "      <td>[121, 130, 128, 130, 129, 117, 126, 129, 170, ...</td>\n",
       "      <td>[70, 75, 86, 84, 79, 79, 77, 86, 93, 88, 74, 6...</td>\n",
       "    </tr>\n",
       "  </tbody>\n",
       "</table>\n",
       "</div>"
      ],
      "text/plain": [
       "                           geometry     cancov               id  \\\n",
       "0  POINT (-1831085.934 2621735.394)  59.588501  85P2HM28+MH8J9F   \n",
       "1  POINT (-1777085.934 2606835.394)  84.616501  85P3G9QF+5437HJ   \n",
       "2  POINT (-1799885.934 2620235.394)  48.072300  85P3J343+F72973   \n",
       "3  POINT (-1823485.934 2616135.394)  65.647797  85P2GQ9G+QJGJ3M   \n",
       "4  POINT (-1789685.934 2631635.394)  45.598701  85P3P4GV+XH824J   \n",
       "\n",
       "                                                   B  \\\n",
       "0  [45, 51, 52, 60, 54, 55, 60, 50, 67, 65, 71, 9...   \n",
       "1  [42, 43, 45, 45, 50, 59, 70, 79, 73, 51, 45, 4...   \n",
       "2  [52, 41, 43, 47, 39, 35, 36, 44, 56, 51, 52, 6...   \n",
       "3  [56, 50, 48, 50, 66, 76, 66, 66, 60, 73, 64, 6...   \n",
       "4  [67, 75, 81, 78, 73, 76, 73, 78, 79, 81, 74, 7...   \n",
       "\n",
       "                                                   G  \\\n",
       "0  [50, 56, 57, 69, 60, 64, 81, 55, 94, 109, 109,...   \n",
       "1  [30, 31, 31, 28, 50, 64, 96, 123, 125, 44, 31,...   \n",
       "2  [81, 44, 55, 64, 43, 30, 36, 49, 82, 73, 86, 1...   \n",
       "3  [57, 46, 42, 43, 97, 126, 99, 71, 80, 104, 79,...   \n",
       "4  [82, 99, 105, 102, 91, 93, 94, 107, 115, 120, ...   \n",
       "\n",
       "                                                   N  \\\n",
       "0  [69, 72, 79, 99, 83, 89, 110, 88, 145, 191, 17...   \n",
       "1  [41, 55, 57, 65, 128, 166, 197, 208, 198, 91, ...   \n",
       "2  [170, 118, 152, 163, 127, 64, 71, 105, 152, 15...   \n",
       "3  [81, 64, 68, 104, 199, 207, 181, 152, 150, 188...   \n",
       "4  [121, 130, 128, 130, 129, 117, 126, 129, 170, ...   \n",
       "\n",
       "                                                   R  \n",
       "0  [37, 43, 40, 55, 45, 47, 63, 41, 78, 79, 91, 1...  \n",
       "1  [20, 23, 20, 20, 28, 38, 58, 69, 67, 25, 22, 1...  \n",
       "2  [57, 32, 36, 38, 32, 23, 24, 36, 65, 49, 56, 7...  \n",
       "3  [40, 31, 32, 30, 57, 78, 63, 51, 53, 69, 57, 6...  \n",
       "4  [70, 75, 86, 84, 79, 79, 77, 86, 93, 88, 74, 6...  "
      ]
     },
     "execution_count": 9,
     "metadata": {},
     "output_type": "execute_result"
    }
   ],
   "source": [
    "samples = pd.merge(lidar_samples, naip_samples, on=\"id\")\n",
    "samples.head()"
   ]
  },
  {
   "cell_type": "markdown",
   "metadata": {},
   "source": [
    "## Encode Images\n",
    "\n",
    "Notice that the NAIP pixels above are stored as band columns with flat arrays of pixel values. To save storage space and make these easier to parse back into images, we'll encode them as PNG images and store the raw bytes instead. After that, we can remove the unused band (and geometry) columns."
   ]
  },
  {
   "cell_type": "code",
   "execution_count": 12,
   "metadata": {},
   "outputs": [],
   "source": [
    "samples[\"image\"] = samples.apply(\n",
    "    lambda row: sampling.footprint_to_bytes(footprint=row, shape=FOOTPRINT_SIZE), axis=1\n",
    ")\n",
    "samples = samples.drop(columns=[\"N\", \"R\", \"G\", \"B\"])"
   ]
  },
  {
   "cell_type": "markdown",
   "metadata": {},
   "source": [
    "Now we can easily preview a few images from the dataset:"
   ]
  },
  {
   "cell_type": "code",
   "execution_count": 13,
   "metadata": {},
   "outputs": [
    {
     "data": {
      "image/jpeg": "[encoded data removed]",
      "image/png": "[encoded data removed]",
      "text/plain": [
       "<PIL.Image.Image image mode=RGB size=80x80>"
      ]
     },
     "metadata": {},
     "output_type": "display_data"
    },
    {
     "name": "stdout",
     "output_type": "stream",
     "text": [
      "cancov: 47.9\n"
     ]
    },
    {
     "data": {
      "image/jpeg": "[encoded data removed]",
      "image/png": "[encoded data removed]",
      "text/plain": [
       "<PIL.Image.Image image mode=RGB size=80x80>"
      ]
     },
     "metadata": {},
     "output_type": "display_data"
    },
    {
     "name": "stdout",
     "output_type": "stream",
     "text": [
      "cancov: 28.9\n"
     ]
    },
    {
     "data": {
      "image/jpeg": "[encoded data removed]",
      "image/png": "[encoded data removed]",
      "text/plain": [
       "<PIL.Image.Image image mode=RGB size=80x80>"
      ]
     },
     "metadata": {},
     "output_type": "display_data"
    },
    {
     "name": "stdout",
     "output_type": "stream",
     "text": [
      "cancov: 69.2\n"
     ]
    }
   ],
   "source": [
    "for _, footprint in samples.sample(n=3).iterrows():\n",
    "    Image.open(io.BytesIO(footprint.image)).convert(\"RGB\").resize((80, 80)).show()\n",
    "    print(f\"cancov: {footprint.cancov:.1f}\")"
   ]
  },
  {
   "cell_type": "markdown",
   "metadata": {},
   "source": [
    "## Export\n",
    "\n",
    "The final step is to export our sampled footprints so that we can access them during training. We'll store them in a [GeoParquet](https://geoparquet.org/) format, which allows similar compression to TFRecords with the accessibility of CSVs."
   ]
  },
  {
   "cell_type": "code",
   "execution_count": 14,
   "metadata": {},
   "outputs": [],
   "source": [
    "out_name = f\"malheur_{N_SAMPLES}_{FOOTPRINT_SIZE[0]}x{FOOTPRINT_SIZE[1]}_{NAIP_YEAR}\"\n",
    "samples.to_parquet(f\"../data/{out_name}.parquet\", compression=\"gzip\")"
   ]
  }
 ],
 "metadata": {
  "kernelspec": {
   "display_name": "Python 3 (ipykernel)",
   "language": "python",
   "name": "python3"
  },
  "language_info": {
   "codemirror_mode": {
    "name": "ipython",
    "version": 3
   },
   "file_extension": ".py",
   "mimetype": "text/x-python",
   "name": "python",
   "nbconvert_exporter": "python",
   "pygments_lexer": "ipython3",
   "version": "3.8.10"
  },
  "orig_nbformat": 4
 },
 "nbformat": 4,
 "nbformat_minor": 2
}
