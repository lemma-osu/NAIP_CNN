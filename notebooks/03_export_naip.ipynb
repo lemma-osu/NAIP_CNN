{
 "cells": [
  {
   "cell_type": "markdown",
   "metadata": {},
   "source": [
    "# 03: Export NAIP\n",
    "\n",
    "This notebook exports NAIP imagery from GEE for use in predictive mapping with a CNN model."
   ]
  },
  {
   "cell_type": "code",
   "execution_count": 1,
   "metadata": {},
   "outputs": [],
   "source": [
    "import ee\n",
    "\n",
    "from naip_cnn.config import BANDS, CRS\n",
    "\n",
    "ee.Initialize()"
   ]
  },
  {
   "cell_type": "markdown",
   "metadata": {},
   "source": [
    "Below, we'll define the year, image size, and region that we want to generate a predicted map across."
   ]
  },
  {
   "cell_type": "code",
   "execution_count": 5,
   "metadata": {},
   "outputs": [],
   "source": [
    "SHAPE = (150, 150)\n",
    "NAIP_YEAR = 2016\n",
    "BBOX = ee.Geometry.Polygon(\n",
    "    [\n",
    "        [\n",
    "            [-119.37239004502233, 44.48079613290612],\n",
    "            [-118.57725454697545, 44.48079613290612],\n",
    "            [-118.57725454697545, 44.81785572318615],\n",
    "            [-119.37239004502233, 44.81785572318615],\n",
    "        ]\n",
    "    ],\n",
    "    None,\n",
    "    False,\n",
    ")"
   ]
  },
  {
   "cell_type": "markdown",
   "metadata": {},
   "source": [
    "Using those parameters, we can create a mosaic of NAIP imagery."
   ]
  },
  {
   "cell_type": "code",
   "execution_count": 7,
   "metadata": {},
   "outputs": [],
   "source": [
    "naip_mosaic = (\n",
    "    ee.ImageCollection(\"USDA/NAIP/DOQQ\")\n",
    "    .filterBounds(BBOX)\n",
    "    .filterDate(str(NAIP_YEAR), str(NAIP_YEAR + 1))\n",
    "    .mosaic()\n",
    "    .select(BANDS)\n",
    "    .reproject(CRS)\n",
    "    .uint8()\n",
    ")"
   ]
  },
  {
   "cell_type": "markdown",
   "metadata": {},
   "source": [
    "Now we can export the TFRecords to Google Drive, where we can grab them once the task is complete. The status can be tracked using `task.status()` or in the [Earth Engine Task Manager](https://code.earthengine.google.com/tasks)."
   ]
  },
  {
   "cell_type": "code",
   "execution_count": 8,
   "metadata": {},
   "outputs": [],
   "source": [
    "task = ee.batch.Export.image.toDrive(\n",
    "    image=naip_mosaic,\n",
    "    description=f\"naip_{NAIP_YEAR}\",\n",
    "    region=BBOX,\n",
    "    scale=1,\n",
    "    fileFormat=\"TFRecord\",\n",
    "    maxPixels=1e13,\n",
    "    formatOptions={\n",
    "        \"patchDimensions\": SHAPE,\n",
    "        \"compressed\": True,\n",
    "        \"maxFileSize\": 1e9,\n",
    "    },\n",
    ")\n",
    "\n",
    "task.start()"
   ]
  }
 ],
 "metadata": {
  "kernelspec": {
   "display_name": "Python 3",
   "language": "python",
   "name": "python3"
  },
  "language_info": {
   "codemirror_mode": {
    "name": "ipython",
    "version": 3
   },
   "file_extension": ".py",
   "mimetype": "text/x-python",
   "name": "python",
   "nbconvert_exporter": "python",
   "pygments_lexer": "ipython3",
   "version": "3.8.10"
  },
  "orig_nbformat": 4
 },
 "nbformat": 4,
 "nbformat_minor": 2
}
