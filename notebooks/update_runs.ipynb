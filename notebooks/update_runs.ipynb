{
 "cells": [
  {
   "cell_type": "code",
   "execution_count": 1,
   "metadata": {},
   "outputs": [
    {
     "name": "stderr",
     "output_type": "stream",
     "text": [
      "/usr/lib/python3/dist-packages/requests/__init__.py:89: RequestsDependencyWarning: urllib3 (1.26.18) or chardet (3.0.4) doesn't match a supported version!\n",
      "  warnings.warn(\"urllib3 ({}) or chardet ({}) doesn't match a supported \"\n"
     ]
    }
   ],
   "source": [
    "import wandb\n",
    "from naip_cnn import augment\n",
    "import dateutil\n",
    "import datetime"
   ]
  },
  {
   "cell_type": "code",
   "execution_count": 2,
   "metadata": {},
   "outputs": [],
   "source": [
    "default_augment = augment.Augment(\n",
    "    augment.RandomFlip(),\n",
    "    augment.RandomContrast(),\n",
    "    augment.RandomBrightness(),\n",
    ")"
   ]
  },
  {
   "cell_type": "code",
   "execution_count": 3,
   "metadata": {},
   "outputs": [],
   "source": [
    "api = wandb.Api()"
   ]
  },
  {
   "cell_type": "code",
   "execution_count": 4,
   "metadata": {},
   "outputs": [],
   "source": [
    "def update_run_config(run):\n",
    "    run_date = dateutil.parser.parse(run.metadata[\"startedAt\"])\n",
    "    cfg = run.config\n",
    "\n",
    "    if run_date >= datetime.datetime(2024, 6, 3, 21):\n",
    "        augmenter = None\n",
    "    else:\n",
    "        augmenter = default_augment\n",
    "\n",
    "    n_train = cfg[\"data\"][\"n_samples\"][\"train\"]\n",
    "    n_val = cfg[\"data\"][\"n_samples\"][\"val\"]\n",
    "    train_path = cfg[\"data\"][\"path\"]\n",
    "    val_path = train_path.replace(\"_train\", \"_val\")\n",
    "\n",
    "    cfg[\"data\"][\"train\"] = {\n",
    "        \"n_samples\": n_train,\n",
    "        \"augmentation\": augmenter.to_json() if augmenter is not None else None,\n",
    "        \"path\": train_path,\n",
    "    }\n",
    "    cfg[\"data\"][\"val\"] = {\n",
    "        \"n_samples\": n_val,\n",
    "        \"path\": val_path,\n",
    "    }\n",
    "\n",
    "    cfg[\"data\"][\"footprint\"][\"units\"] = \"meters\"\n",
    "\n",
    "    del cfg[\"data\"][\"n_samples\"]\n",
    "    del cfg[\"data\"][\"path\"]"
   ]
  },
  {
   "cell_type": "code",
   "execution_count": 5,
   "metadata": {},
   "outputs": [],
   "source": [
    "runs = api.runs(\"aazuspan-team/naip-cnn\")\n",
    "\n",
    "for run in runs:\n",
    "    update_run_config(run)\n",
    "    run.update()"
   ]
  }
 ],
 "metadata": {
  "kernelspec": {
   "display_name": "Python 3",
   "language": "python",
   "name": "python3"
  },
  "language_info": {
   "codemirror_mode": {
    "name": "ipython",
    "version": 3
   },
   "file_extension": ".py",
   "mimetype": "text/x-python",
   "name": "python",
   "nbconvert_exporter": "python",
   "pygments_lexer": "ipython3",
   "version": "3.8.10"
  }
 },
 "nbformat": 4,
 "nbformat_minor": 2
}
